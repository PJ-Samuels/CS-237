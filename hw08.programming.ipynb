{
 "cells": [
  {
   "cell_type": "markdown",
   "metadata": {},
   "source": [
    "## CS 237 Homework 08 (Programming Problems) \n",
    "\n",
    "**Due Thursday March 31st at Midnight (1 minute after 11:59pm) in Gradescope (with grace period of 6 hours).\n",
    "Homeworks may be submitted up to 24 hours late with a 10% penalty (same grace period).**\n",
    "\n",
    "Enter your solutions in this notebook and submit as an IPYNB file on Gradescope. Don't forget to include information about your collaborators (or say **Collaborators: none**).\n"
   ]
  },
  {
   "cell_type": "markdown",
   "metadata": {},
   "source": [
    "**Collaborators:**  \n"
   ]
  },
  {
   "cell_type": "code",
   "execution_count": 38,
   "metadata": {},
   "outputs": [],
   "source": [
    "# Imports potentially used for this hw\n",
    "\n",
    "import matplotlib.pyplot as plt   # normal plotting\n",
    "import numpy as np\n",
    "\n",
    "from math import log, pi, floor, sqrt       \n",
    "#from numpy.random import seed, random, uniform\n",
    "from collections import Counter\n",
    "\n",
    "from random import sample, shuffle, seed\n",
    "\n",
    "%matplotlib inline\n",
    "\n",
    "# May want to use this for displaying floats\n",
    "    \n",
    "def round4(x):\n",
    "    return round(x+0.00000000001,4)\n"
   ]
  },
  {
   "cell_type": "markdown",
   "metadata": {},
   "source": [
    "## Problem: The Fuses Reloaded (5 pts)\n",
    "\n",
    "In this problem, we will use the techniques we have learned so far this\n",
    "term to model a random experiment with Python that we are also\n",
    "solving mathematically in Analytical Problem 4. \n",
    "\n",
    "Each part of the problem is an empirical verification of an analytical result: you should\n",
    "get results here which are approximately the same as the answers calculated in Problem 4.\n",
    "(The more trials you perform, the better the approximation, but $10^5$ should be sufficient.)\n",
    "\n"
   ]
  },
  {
   "cell_type": "markdown",
   "metadata": {},
   "source": [
    "### (A)\n",
    "\n",
    "Perform an experiment to verify the result you obtained for Problem 4 (a). Complete the template in the next cell. \n",
    "\n",
    "Hints: \n",
    "\n",
    "- Start by creating a list of 20 numbers from $\\{0,1\\}$, 1 representing a good fuse and 0 representing a defective fuse; \n",
    "- Consider these functions: `sample` (from the `random` library), `count`. (Google these to learn how they work.)\n"
   ]
  },
  {
   "cell_type": "code",
   "execution_count": 43,
   "metadata": {},
   "outputs": [
    {
     "name": "stdout",
     "output_type": "stream",
     "text": [
      "(A) The expected number of defective fuses among the 5 selected is 1.7486\n"
     ]
    }
   ],
   "source": [
    "# (a)\n",
    "\n",
    "seed(0)\n",
    "\n",
    "# Your code here\n",
    "fuses = [1,1,1,1,1,1,1,1,1,1,1,1,1,0,0,0,0,0,0,0]\n",
    "\n",
    "\n",
    "i = 0\n",
    "val = 0\n",
    "for i in range (10**5):\n",
    "    subset = sample(fuses,5)\n",
    "    for j in subset:\n",
    "        if subset[j] == 0:\n",
    "            val +=1\n",
    "\n",
    "expected_value = val/10**5\n",
    "\n",
    "\n",
    "print(\"(A) The expected number of defective fuses among the 5 selected is\", round4(expected_value))\n"
   ]
  },
  {
   "cell_type": "markdown",
   "metadata": {},
   "source": [
    "### (B)\n",
    "\n",
    "Perform an experiment to verify the result you obtained for Problem 4 (b). Complete the template in the next cell. \n",
    "\n",
    "Hints: \n",
    "\n",
    "- Start by creating a list of 20 numbers from $\\{0,1\\}$, 1 representing a good fuse and 0 representing a defective fuse; \n",
    "- Create a new copy of this list for every trial, and use `shuffle` (from the `random` library) and `index`. \n"
   ]
  },
  {
   "cell_type": "code",
   "execution_count": 46,
   "metadata": {},
   "outputs": [
    {
     "name": "stdout",
     "output_type": "stream",
     "text": [
      "(B) The expected number of fuses you choose until you find a non-defective fuse is 3.5929\n"
     ]
    }
   ],
   "source": [
    "# (B)\n",
    "\n",
    "seed(0)\n",
    "\n",
    "# Your code here\n",
    "fuses = [1,1,1,1,1,1,1,1,1,1,1,1,1,0,0,0,0,0,0,0]\n",
    "\n",
    "\n",
    "i = 0\n",
    "val = 0\n",
    "for i in range (10**5):\n",
    "    shuffle(fuses)\n",
    "    for j in fuses:\n",
    "        val += 1\n",
    "        if fuses[j] == 1:\n",
    "            break\n",
    "\n",
    "expected_value = val/10**5\n",
    " # just to get it to compile\n",
    "\n",
    "print(\"(B) The expected number of fuses you choose until you find a non-defective fuse is\", round4(expected_value))\n"
   ]
  },
  {
   "cell_type": "markdown",
   "metadata": {},
   "source": [
    "### (C)\n",
    "\n",
    "Perform an experiment to verify the result you obtained for Problem 4 (c). Complete the template in the next cell. \n",
    "\n",
    "Hints: \n",
    "\n",
    "- Start by creating a list of 20 numbers from $\\{0,1\\}$, 1 representing a good fuse and 0 representing a defective fuse; \n",
    "- Create a new copy of this list for every trial, use `shuffle`, then slice the list into 5 equal sublists corresponding to the boxes. \n"
   ]
  },
  {
   "cell_type": "code",
   "execution_count": 8,
   "metadata": {},
   "outputs": [
    {
     "name": "stdout",
     "output_type": "stream",
     "text": [
      "(C) The expected number of boxes with no defective fuses is 0\n"
     ]
    }
   ],
   "source": [
    "# (C)\n",
    "\n",
    "seed(0)\n",
    "\n",
    "# Your code here\n",
    "\n",
    "expected_value = 0 # just to get it to compile\n",
    "\n",
    "print(\"(C) The expected number of boxes with no defective fuses is\", expected_value)\n"
   ]
  }
 ],
 "metadata": {
  "kernelspec": {
   "display_name": "Python 3 (ipykernel)",
   "language": "python",
   "name": "python3"
  },
  "language_info": {
   "codemirror_mode": {
    "name": "ipython",
    "version": 3
   },
   "file_extension": ".py",
   "mimetype": "text/x-python",
   "name": "python",
   "nbconvert_exporter": "python",
   "pygments_lexer": "ipython3",
   "version": "3.9.7"
  }
 },
 "nbformat": 4,
 "nbformat_minor": 2
}
