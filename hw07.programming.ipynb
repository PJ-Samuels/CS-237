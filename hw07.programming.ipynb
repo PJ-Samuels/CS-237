{
 "cells": [
  {
   "cell_type": "markdown",
   "metadata": {},
   "source": [
    "## CS 237 Homework 07 (Programming Problem) \n",
    "\n",
    "**Due Thursday March 124th at Midnight (1 minute after 11:59pm) in Gradescope (with grace period of 6 hours).\n",
    "Homeworks may be submitted up to 24 hours late with a 10% penalty (same grace period).**\n",
    "\n",
    "Enter your solutions in this notebook and submit as an IPYNB file on Gradescope. Don't forget to include information about your collaborators (or say **Collaborators: none**).\n"
   ]
  },
  {
   "cell_type": "code",
   "execution_count": 4,
   "metadata": {},
   "outputs": [],
   "source": [
    "# Imports potentially used for this problem\n",
    "\n",
    "import matplotlib.pyplot as plt   # normal plotting\n",
    "import numpy as np\n",
    "\n",
    "from math import log, pi,log,floor       # import whatever you want from math\n",
    "from numpy.random import seed, random, randint\n",
    "from collections import Counter\n",
    "\n",
    "%matplotlib inline\n"
   ]
  },
  {
   "cell_type": "markdown",
   "metadata": {},
   "source": [
    "## General Instructions -- Let's Gamble!\n",
    "\n",
    "This week's programming problem will focus on choosing an appropriate\n",
    "strategy for a game of chance, by considering average payoff for each\n",
    "possible strategy. This way of thinking about games of chance is\n",
    "a good introduction to the notion of *expected value*\n",
    "which we will explore in the next few lectures. \n"
   ]
  },
  {
   "cell_type": "markdown",
   "metadata": {},
   "source": [
    "## Problem: What is the best strategy for the game of Twenty-One?\n",
    "Now suppose we want to actually figure out the right strategy in a game of chance. \n",
    "\n",
    "We will play a version of blackjack called Twenty-One and figure out the best strategy for the game.\n",
    "\n",
    "### Twenty One\n",
    "This game is similar to the famous card game blackjack. We will play a one-player version of the game. The game is played for some number `num_trials` of rounds (we will use `num_trials` = $10^5$), at the end of which the player wins points. The player accumulates points during the whole game, and the objective is, of course, to end up with the maximum number of points. \n",
    "\n",
    "The objective in each round of the game is to score as close to 21 as possible by rolling a die as many times as you wish and adding all the numbers that appear. When a player's total exceeds 21, he is 'busted' and gets 0 points. If the player chooses to stop rolling before he exceeds 21, then he wins whatever his total is at that point. So for example, if a player rolls 5, 2, 4, and then 6, his total at that point is 17, and he has to decide whether it is worth trying again: he will be busted if he gets 5 or more (since 17+5=22), but will get a better total if he gets 4 or less.  \n",
    "\n",
    "There are many variations on this game, some involving multiple players, or a \"banker\" or different numbers of dice, or alcohol..... <a href=\"https://www.youtube.com/watch?v=eyoh-Ku9TCI\">here</a> is a short YT video explaining the version played in casinos (we have simplified it in many ways for this problem). \n",
    "\n",
    "A computer can play this game with a suitable strategy. For this problem, we will consider a strategy to be simply an integer K which is the value at which you stop rolling (thinking that you are close enough to 21). The number K is fixed for the entire game. For example, if you set K = 19, then in every round, you will keep rolling if your sum to that point is less than 19; if you get a num &ge; 19 you stop. Clearly, any good strategy will be a number at least 15, since 15+6=21 and if you roll again at 15, you will never bust. But we will try all possible strategies. \n",
    "\n",
    "### To Do\n",
    "You should write a function <code>playRound(K)</code> which rolls a single die until you reach or exceed K or get busted, and either return your score (if you reached or exceeded K), or 0 (if you were busted). Then write code which calls <code>playRound(K)</code> for N = $10^5$ times for each K and returns an array of 21 numbers giving the average payoff for each K = 1, ..., 21.\n",
    "\n",
    "(This is a suggestion - if you have a better idea for how to organized your code, that is fine.)\n",
    "\n",
    "Your task is to answer the following questions: \n",
    "\n",
    "(A) For each K = 1 .. 21, what is the average payoff per round for a game played with this strategy?\n",
    "\n",
    "(B) What is the best strategy for the game, meaning what value of K wins the most points on average?\n",
    "\n",
    "Print out the average payoffs for each strategy and an appropriate bar chart for the first question, and simply print out the answer to the second question using a `print(...)` function. You must calculate the answer in Python, not by observation of the graph. "
   ]
  },
  {
   "cell_type": "code",
   "execution_count": 8,
   "metadata": {},
   "outputs": [
    {
     "name": "stdout",
     "output_type": "stream",
     "text": [
      "K =  1  3.00985\n",
      "K =  2  3.60296\n",
      "K =  3  4.31953\n",
      "K =  4  5.19035\n",
      "K =  5  6.21931\n",
      "K =  6  7.46927\n",
      "K =  7  8.35226\n",
      "K =  8  9.30502\n",
      "K =  9  10.3143\n",
      "K =  10  11.32993\n",
      "K =  11  12.35667\n",
      "K =  12  13.33826\n",
      "K =  13  14.32978\n",
      "K =  14  15.32704\n",
      "K =  15  16.33213\n",
      "K =  16  17.33857\n",
      "K =  17  18.3262\n",
      "K =  18  17.87548\n",
      "K =  19  15.85685\n",
      "K =  20  12.27107\n",
      "K =  21  7.01547\n",
      "Pay Off per rounds =  [3.00985, 3.60296, 4.31953, 5.19035, 6.21931, 7.46927, 8.35226, 9.30502, 10.3143, 11.32993, 12.35667, 13.33826, 14.32978, 15.32704, 16.33213, 17.33857, 18.3262, 17.87548, 15.85685, 12.27107, 7.01547]\n"
     ]
    },
    {
     "data": {
      "image/png": "[encoded data removed]",
      "text/plain": [
       "<Figure size 432x288 with 1 Axes>"
      ]
     },
     "metadata": {
      "needs_background": "light"
     },
     "output_type": "display_data"
    }
   ],
   "source": [
    "#Plays a single round of Twenty One with strategy K (flips the die until K is\n",
    "#reached or the player busts) and returns the score.\n",
    "\n",
    "def playRound(K):\n",
    "    \n",
    "    count = 0\n",
    "    while count < K:\n",
    "        roll = randint(1,6)\n",
    "        count += roll\n",
    "    if count > 21:\n",
    "        count = 0\n",
    "    return count               # your code here\n",
    "def main():\n",
    "    averages = []\n",
    "    num = []\n",
    "    \n",
    "    for i in range(1,22):\n",
    "        trial_total = 0\n",
    "        num.append(i)\n",
    "        for j in range(num_trials):\n",
    "            count = playRound(i)\n",
    "            trial_total += count\n",
    "        avg = trial_total/num_trials\n",
    "        averages.append(avg)\n",
    "        print(\"K = \",i,\"\",avg)\n",
    "    print(\"Pay Off per rounds = \",averages)\n",
    "    plt.bar(num, averages)\n",
    "    plt.title('Die roll strategy')\n",
    "    plt.xlabel(\"Occurances\")\n",
    "    plt.ylabel(\"number k\")\n",
    "    plt.show()\n",
    "    \n",
    "main()\n",
    "\n",
    "#Calculate the average payoff for each possible strategy K = 1, 2, ..., 21\n",
    "#by playing the game num_trials times for each K and keeping track of the payoff.\n",
    "num_trials = 10**5\n",
    "seed(0)\n",
    "\n",
    "# Your code here     "
   ]
  },
  {
   "cell_type": "code",
   "execution_count": null,
   "metadata": {},
   "outputs": [],
   "source": []
  },
  {
   "cell_type": "code",
   "execution_count": null,
   "metadata": {},
   "outputs": [],
   "source": []
  }
 ],
 "metadata": {
  "kernelspec": {
   "display_name": "Python 3 (ipykernel)",
   "language": "python",
   "name": "python3"
  },
  "language_info": {
   "codemirror_mode": {
    "name": "ipython",
    "version": 3
   },
   "file_extension": ".py",
   "mimetype": "text/x-python",
   "name": "python",
   "nbconvert_exporter": "python",
   "pygments_lexer": "ipython3",
   "version": "3.9.7"
  }
 },
 "nbformat": 4,
 "nbformat_minor": 2
}
