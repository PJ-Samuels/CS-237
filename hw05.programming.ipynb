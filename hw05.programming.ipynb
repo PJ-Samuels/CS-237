{
 "cells": [
  {
   "cell_type": "markdown",
   "metadata": {},
   "source": [
    "## CS 237 Homework 05 (Programming Problems) \n",
    "\n",
    "**Due Thursday February 24th at Midnight (1 minute after 11:59pm) in Gradescope (with grace period of 6 hours).\n",
    "Homeworks may be submitted up to 24 hours late with a 10% penalty (same grace period).**\n",
    "\n",
    "Enter your solutions in this notebook and submit as an IPYNB file on Gradescope. Don't forget to include information about your collaborators (or say **Collaborators: none**).\n"
   ]
  },
  {
   "cell_type": "markdown",
   "metadata": {},
   "source": [
    "**Collaborators:**  \n"
   ]
  },
  {
   "cell_type": "code",
   "execution_count": 1,
   "metadata": {},
   "outputs": [],
   "source": [
    "# Imports potentially used for this hw\n",
    "\n",
    "import matplotlib.pyplot as plt   # normal plotting\n",
    "import numpy as np\n",
    "\n",
    "from math import log, pi, floor, sqrt       \n",
    "from numpy.random import seed, random, uniform\n",
    "from collections import Counter\n",
    "\n",
    "%matplotlib inline\n",
    "\n",
    "# May want to use this for displaying floats\n",
    "    \n",
    "def round4(x):\n",
    "    return round(x+0.00000000001,4)\n",
    "\n",
    "def round4_list(L):\n",
    "    return [ round4(x) for x in L]\n"
   ]
  },
  {
   "cell_type": "markdown",
   "metadata": {},
   "source": [
    "##  Problem: Game Simulation (5 pts)\n",
    "\n",
    "Sofya and Wayne play the following game: Wayne tosses a coin repeatedly; the coin is potentially unfair with $\\Pr(\\text{heads}) = p$.\n",
    "The game ends the first time that two consecutive heads (HH) or two consecutive tails (TT) are observed. \n",
    "Wayne wins if (HH) is observed and Sofya wins if (TT) is observed. Supposing that we know that Wayne won\n",
    "the game, what is the probability that the first coin toss resulted in a head?\n",
    "\n",
    "In this problem, you must simulate this game and confirm that you find the probability to be approximately \n",
    "\n",
    "$$\\frac{1}{2-p}.$$\n",
    "\n",
    "You are free to program this as you wish, but here are some hints to get you started:\n",
    "\n",
    "- Use your function `X()` from HW 04 Problem 1 to determine the result of the coin toss;\n",
    "- Play the game `num_trials` times, using a `for` loop as usual, and write an inner `while` loop to play the game until the last two rolls are the same; \n",
    "- For each game, keep track of the first coin toss and whether Wayne won; \n",
    "- The probability at the end is the percentage of the games that Wayne won which started with a head.  \n",
    "\n",
    "Try with the three $p$ values given below. "
   ]
  },
  {
   "cell_type": "code",
   "execution_count": 24,
   "metadata": {
    "scrolled": false
   },
   "outputs": [
    {
     "name": "stdout",
     "output_type": "stream",
     "text": [
      "result 0.667968906519213\n"
     ]
    }
   ],
   "source": [
    "import matplotlib.pyplot as plt   # normal plotting\n",
    "import numpy as np\n",
    "\n",
    "from math import log, pi, floor, sqrt       \n",
    "from numpy.random import seed, random, uniform\n",
    "from collections import Counter\n",
    "\n",
    "p = 0.5\n",
    "\n",
    "# 1/(2-p) = 2/3\n",
    "\n",
    "num_trials = 10**5\n",
    "seed(0)\n",
    "\n",
    "def X():\n",
    "    val = np.random.uniform(0,1)\n",
    "    if val <= p:\n",
    "        return 1\n",
    "    return 0  \n",
    "\n",
    "def game():\n",
    "    first_roll = X()\n",
    "    last_roll = first_roll\n",
    "    roll = -1\n",
    "    while(True):\n",
    "        roll = X()\n",
    "        if last_roll == roll:\n",
    "            break\n",
    "        else:\n",
    "            last_roll = roll\n",
    "            \n",
    "    return roll, first_roll\n",
    "def main():\n",
    "    headW_wins = 0\n",
    "    wayne_wins = 0\n",
    "    i = 0\n",
    "    for i in range (num_trials):  \n",
    "        roll, first_roll = game()\n",
    "        if roll == 1 and first_roll == 1:\n",
    "            headW_wins +=1 \n",
    "        if roll == 1:\n",
    "            wayne_wins +=1\n",
    "            \n",
    "    result = headW_wins/wayne_wins\n",
    "    print(\"result\", result)\n",
    "\n",
    "main()"
   ]
  },
  {
   "cell_type": "code",
   "execution_count": 25,
   "metadata": {},
   "outputs": [
    {
     "name": "stdout",
     "output_type": "stream",
     "text": [
      "result 0.5441389290882779\n"
     ]
    }
   ],
   "source": [
    "p = 0.1\n",
    "\n",
    "# 1/(2-p) = 0.5263157894736842\n",
    "\n",
    "seed(0)\n",
    "\n",
    "num_trials = 10**5\n",
    "seed(0)\n",
    "\n",
    "def X():\n",
    "    val = np.random.uniform(0,1)\n",
    "    if val <= p:\n",
    "        return 1\n",
    "    return 0  \n",
    "\n",
    "def game():\n",
    "    first_roll = X()\n",
    "    last_roll = first_roll\n",
    "    roll = -1\n",
    "    while(True):\n",
    "        roll = X()\n",
    "        if last_roll == roll:\n",
    "            break\n",
    "        else:\n",
    "            last_roll = roll\n",
    "            \n",
    "    return roll, first_roll\n",
    "def main():\n",
    "    counter = 0\n",
    "    counter2 = 0\n",
    "    i = 0\n",
    "    for i in range (num_trials):  \n",
    "        roll, first_roll = game()\n",
    "        if roll == 1 and first_roll == 1:\n",
    "            counter +=1 \n",
    "        if roll == 1:\n",
    "            counter2 +=1\n",
    "            \n",
    "    result = counter/counter2\n",
    "    print(\"result\", result)\n",
    "\n",
    "main()"
   ]
  },
  {
   "cell_type": "code",
   "execution_count": 26,
   "metadata": {},
   "outputs": [
    {
     "name": "stdout",
     "output_type": "stream",
     "text": [
      "result 0.9519859225741578\n"
     ]
    }
   ],
   "source": [
    "p = 0.95\n",
    "\n",
    "seed(0)\n",
    "\n",
    "# 1/(2-p) = 0.9523809523809523\n",
    "\n",
    "num_trials = 10**5\n",
    "seed(0)\n",
    "\n",
    "def X():\n",
    "    val = np.random.uniform(0,1)\n",
    "    if val <= p:\n",
    "        return 1\n",
    "    return 0  \n",
    "\n",
    "def game():\n",
    "    first_roll = X()\n",
    "    last_roll = first_roll\n",
    "    roll = -1\n",
    "    while(True):\n",
    "        roll = X()\n",
    "        if last_roll == roll:\n",
    "            break\n",
    "        else:\n",
    "            last_roll = roll\n",
    "            \n",
    "    return roll, first_roll\n",
    "def main():\n",
    "    counter = 0\n",
    "    counter2 = 0\n",
    "    i = 0\n",
    "    for i in range (num_trials):  \n",
    "        roll, first_roll = game()\n",
    "        if roll == 1 and first_roll == 1:\n",
    "            counter +=1 \n",
    "        if roll == 1:\n",
    "            counter2 +=1\n",
    "            \n",
    "    result = counter/counter2\n",
    "    print(\"result\", result)\n",
    "\n",
    "main()\n",
    "\n",
    "# Your code here"
   ]
  },
  {
   "cell_type": "code",
   "execution_count": null,
   "metadata": {},
   "outputs": [],
   "source": []
  }
 ],
 "metadata": {
  "kernelspec": {
   "display_name": "Python 3 (ipykernel)",
   "language": "python",
   "name": "python3"
  },
  "language_info": {
   "codemirror_mode": {
    "name": "ipython",
    "version": 3
   },
   "file_extension": ".py",
   "mimetype": "text/x-python",
   "name": "python",
   "nbconvert_exporter": "python",
   "pygments_lexer": "ipython3",
   "version": "3.9.7"
  }
 },
 "nbformat": 4,
 "nbformat_minor": 2
}
