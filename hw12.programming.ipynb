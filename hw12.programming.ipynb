{
 "cells": [
  {
   "cell_type": "markdown",
   "metadata": {},
   "source": [
    "## CS 237 Homework 12 (Programming Problem) \n",
    "\n",
    "**Due Thursday April 28th at Midnight (1 minute after 11:59pm) in Gradescope (with grace period of 6 hours).\n",
    "Homeworks may be submitted up to 24 hours late with a 10% penalty (same grace period).**\n",
    "\n",
    "Enter your solutions in this notebook and submit as an IPYNB file on Gradescope. Don't forget to include information about your collaborators (or say **Collaborators: none**).\n"
   ]
  },
  {
   "cell_type": "markdown",
   "metadata": {},
   "source": [
    "#### In the following cell are Python functions you might find useful for completing the analytical questions in HW 12; you do NOT need them for the programming problem given below. "
   ]
  },
  {
   "cell_type": "code",
   "execution_count": 3,
   "metadata": {},
   "outputs": [
    {
     "data": {
      "text/plain": [
       "(13.986024784959682, 106.01397521504032)"
      ]
     },
     "execution_count": 3,
     "metadata": {},
     "output_type": "execute_result"
    }
   ],
   "source": [
    "# Here are some imports which will be used in code that we write for CS 237\n",
    "\n",
    "import matplotlib.pyplot as plt   # normal plotting\n",
    "import numpy as np\n",
    "\n",
    "from math import log, pi, log, floor, ceil, sqrt       # import whatever you want from math\n",
    "from numpy.random import seed, random\n",
    "from numpy import mean, var\n",
    "from collections import Counter\n",
    "\n",
    "%matplotlib inline\n",
    "\n",
    "\n",
    "#### Normal Distribution    #####\n",
    "\n",
    "from  scipy.stats import norm\n",
    "\n",
    "######   Note that in this library loc = mean and scale = standard deviation  #####\n",
    "\n",
    "# Examples assume random variable X (e.g., housing prices) normally distributed with  mu = 60, sigma = 10\n",
    "\n",
    "# Probability Density Function    (really only useful for drawing the curve)\n",
    "#  f(x) = P(X == x)\n",
    "\n",
    "norm.pdf(x=50,loc=60, scale= 10)     \n",
    "\n",
    "# Cumulative Density Function\n",
    "#  F(x) = P(X < x)\n",
    "\n",
    "# Example:  Percentage of houses less than 50K. \n",
    "norm.cdf(x=50,loc=60,scale=10) \n",
    "\n",
    "# Example:  Find P(60<X<80)\n",
    "norm.cdf(x=80,loc=60,scale=40) - norm.cdf(x=60,loc=60,scale=40)\n",
    "\n",
    "# Survival Function: Simply 1 - CDF, i.e., P(X > x)\n",
    "\n",
    "# Example:  Percentage of houses more than 50K.\n",
    "norm.sf(x=50,loc=60,scale=10) \n",
    "\n",
    "# Percentage Point Function: Inverse of the CDF:\n",
    "# For what is the largest value of k for which P( X < k ) = q  ?\n",
    "\n",
    "# Example: What is the maximum cost of the 5% cheapest houses, \n",
    "# i.e., the x such that P(X < x) = 0.05?\n",
    "\n",
    "norm.ppf(q=0.05,loc=60,scale=40)\n",
    "\n",
    "# Inverse Survival Function: Inverse (1 - CDF):\n",
    "# For what is the smallest value of k for which P( X > k ) = q  ?\n",
    "\n",
    "# Example: What is the minimum cost of the 5% most expensive houses, \n",
    "# i.e., the x such that P(X > x) = 0.05?\n",
    "\n",
    "norm.isf(q=0.05,loc=60,scale=40)\n",
    "\n",
    "#   Give the endpoints of the interval (centered on the mean)\n",
    "#   which contain alpha/100 percent of the population (alpha is a probability)\n",
    "\n",
    "# Ex. Give the interval for the middle 75% of the houses\n",
    "\n",
    "norm.interval(alpha=0.75, loc=60, scale=40)\n",
    "\n",
    "\n",
    "\n"
   ]
  },
  {
   "cell_type": "markdown",
   "metadata": {},
   "source": [
    "## Problem --- Convergence of Mean of Fair Coin Flips  \n",
    "\n",
    "Now we will return to the framework of plotting in 2D to create one of my favorite \"data graphics,\" showing what happens when we repeatedly flip a fair coin and track the value of the mean number of flips.  This graphic was shown at the end of the lecture on the Normal Distribution, last Tuesday.  \n",
    "\n",
    "We have quantified how these converges by using the Central Limit Theorem, which enables us to quantify the standard deviation of the random variation in the mean after n flips. Essentially, we are dealing with a Bernoulli(00.5) population (the individual coin flips) and after n flips, we have essentially taken a sample of size n and calculated the mean. Therefore, you can calculate the standard deviation of the mean after n flips:\n",
    "\n",
    "$${\\sigma\\over\\sqrt{n}}$$\n",
    "\n",
    "where $\\sigma$ is the standard deviation of Bernoulli(0.5), which you can easily calculate.  \n",
    "\n",
    "To create the figure, do the following:\n",
    "\n",
    "   - Complete the code template below for <code>generate_bernoulli(p)</code>, which returns a 1 or 0\n",
    "   - Complete the code template below for <code>generateMeans()</code>, which generates a sequence of `limit` = $10^3$ Bernoulli(0.5) trials and calculates a corresponding sequence of means up to that point, e.g., \n",
    "<pre>\n",
    "    [1, 0,   0,      1,   1,   0,   1, ...  ]     # these are the flips\n",
    "    [1, 0.5, 0.33.., 0.5, 0.6, 0.5, 0.57... ]     # these are the means so far\n",
    "</pre>\n",
    "\n",
    "   - Create lists of length <code>limit</code> giving the bounds guaranteed by the CLT at each step (step n represents a sample of size n):<br>\n",
    "     S1 = 0.5 + $\\sigma \\,/{\\tiny\\sqrt{n}}\\,$  for each step n<br>\n",
    "     S2 = 0.5 + $2\\sigma \\,/{\\tiny\\sqrt{n}}\\,$ for each step n<br>\n",
    "     S3 = 0.5 + $3\\sigma \\,/{\\tiny\\sqrt{n}}\\,$ for each step n<br>\n",
    "     S1n = 0.5 - $\\sigma \\,/{\\tiny\\sqrt{n}}\\,$  for each step n<br>\n",
    "     S2n = 0.5 - $2\\sigma \\,/{\\tiny\\sqrt{n}}\\,$ for each step n<br>\n",
    "     S3n = 0.5 - $3\\sigma \\,/{\\tiny\\sqrt{n}}\\,$ for each step n<br>\n",
    "         \n",
    "   - Graph `num_trials` = 50 sequences of means by calling `generateMeans()` 50 times\n",
    "   - Graph each of the 6 lists S1... S3n giving the bounds at each step.\n",
    "   \n",
    "The Python code for creating the graphic is given to you, all you have to do is create the required\n",
    "lists to display. \n",
    "   \n",
    "  If you draw all the curves before calling `show()`, they will all display on the same graph. Check with\n",
    "  the lecture to see what you are aiming for. \n",
    "\n",
    "Hint: To check your work, the first ten values of S1 should be close to the following:\n",
    "<pre>\n",
    "S1[:10] = [1.0, 0.8535533905932737, 0.7886751345948129, 0.75, 0.7236067977499789, 0.7041241452319316, 0.6889822365046137, 0.6767766952966369, 0.6666666666666666, 0.658113883008419]\n",
    "</pre>"
   ]
  },
  {
   "cell_type": "code",
   "execution_count": 2,
   "metadata": {
    "scrolled": false
   },
   "outputs": [
    {
     "data": {
      "image/png": "[encoded data removed]",
      "text/plain": [
       "<Figure size 1152x576 with 1 Axes>"
      ]
     },
     "metadata": {
      "needs_background": "light"
     },
     "output_type": "display_data"
    }
   ],
   "source": [
    "num_trials = 100                              # number of coin flip sequences you will trace\n",
    "limit = 10**3\n",
    "X = list(range(limit))                        # X axis values 0 .. 999\n",
    "dummy_list = [0] * limit                      # dummy placeholder list, you'll replace all these\n",
    "Y = dummy_list                                # just to get this cell to compile, you'll create these below \n",
    "                                              #     in the loop where the traces are displayed\n",
    "\n",
    "seed(0)\n",
    "\n",
    "def generate_bernoulli(x,p):\n",
    "    ans = (p**x)*((1-p)**(1-x ))               # just to get it to compile, your code here\n",
    "    return ans\n",
    "def generateMeans(flips):\n",
    "    for i in range(flips.length):\n",
    "        sum += flips[i]\n",
    "        ans.append(sum/(i+1)\n",
    "    return ans                  # just to get it to compile, your code here\n",
    "\n",
    "def genBounds(k):\n",
    "    return dummy_list                  # just to get it to compile, your code here\n",
    "    \n",
    "S1  = dummy_list       # just to get it to compile, call genBounds with appropriate parameter k\n",
    "    \n",
    "S1n = dummy_list\n",
    "\n",
    "S2  = dummy_list\n",
    "    \n",
    "S2n = dummy_list\n",
    "\n",
    "S3  = dummy_list\n",
    "    \n",
    "S3n = dummy_list\n",
    "        \n",
    "seed(0)\n",
    "plt.figure(figsize=(16, 8))\n",
    "plt.title('Convergence of the Mean Number of Heads',fontsize=14)\n",
    "plt.xlabel(\"Number of Flips\",fontsize=12)\n",
    "plt.ylabel(\"Mean Number of Heads\",fontsize=12)\n",
    "plt.xlim([0,limit])\n",
    "plt.ylim([0,1])\n",
    "plt.yticks(np.arange(0,1.1,0.1))\n",
    "plt.grid(color='0.95')\n",
    "plt.plot([0,limit-1],[0.5,0.5],lw=2,color='k',label=\"$\\mu$\")\n",
    "for k in range(num_trials):\n",
    "    #Y = generateMeans()         # <<== here is where your function creates the trace of means, uncomment this line!\n",
    "    plt.plot(X,Y,lw=0.5)    # ,color='0.5')\n",
    "\n",
    "# now draw 1,2, & 3 standard deviations\n",
    "plt.plot(X,S1,color='k',linestyle='--',alpha=0.5,label=\"$\\mu\\pm\\sigma$\")\n",
    "plt.plot(X,S1n,color='k',linestyle='--',alpha=0.5)\n",
    "\n",
    "plt.plot(X,S2,color='k',linestyle='-.',alpha=0.5,label=\"$\\mu\\pm 2\\sigma$\")\n",
    "plt.plot(X,S2n,color='k',linestyle='-.',alpha=0.5)\n",
    "\n",
    "plt.plot(X,S3,color='k',linestyle=':',alpha=0.25,label=\"$\\mu\\pm 3\\sigma$\")\n",
    "plt.plot(X,S3n,color='k',linestyle=':',alpha=0.25)\n",
    "plt.legend()\n",
    "plt.show()\n",
    "\n"
   ]
  }
 ],
 "metadata": {
  "kernelspec": {
   "display_name": "Python 3 (ipykernel)",
   "language": "python",
   "name": "python3"
  },
  "language_info": {
   "codemirror_mode": {
    "name": "ipython",
    "version": 3
   },
   "file_extension": ".py",
   "mimetype": "text/x-python",
   "name": "python",
   "nbconvert_exporter": "python",
   "pygments_lexer": "ipython3",
   "version": "3.9.7"
  }
 },
 "nbformat": 4,
 "nbformat_minor": 2
}
