{
 "cells": [
  {
   "cell_type": "markdown",
   "metadata": {},
   "source": [
    "## CS 237 Homework 10 (Programming Problem) \n",
    "\n",
    "**Due Thursday April 14th at Midnight (1 minute after 11:59pm) in Gradescope (with grace period of 6 hours).\n",
    "Homeworks may be submitted up to 24 hours late with a 10% penalty (same grace period).**\n",
    "\n",
    "Enter your solutions in this notebook and submit as an IPYNB file on Gradescope. Don't forget to include information about your collaborators (or say **Collaborators: none**)."
   ]
  },
  {
   "cell_type": "markdown",
   "metadata": {},
   "source": [
    "###  General Instructions:  Reservoir Sampling\n",
    "\n",
    "This notebook provides a brief introduction to data streams and randomized algorithms. Specifically, we will study the problem of sampling an item uniformly at random from a data stream. The algorithm we will describe is called reservoir sampling and it is an important tool in Computer Science and beyond. This was covered in lecture this week and you might also look at [this wikipedia page](https://en.wikipedia.org/wiki/Reservoir_sampling)).\n",
    "\n",
    "In general, reservoir sampling can be used to select $k$ random samples from a stream with $n$ items, where $n$\n",
    "is of course unknown.  For simplicity, we investigate only the case for $k=1$, i.e., a single random sample from the stream. "
   ]
  },
  {
   "cell_type": "code",
   "execution_count": 1,
   "metadata": {},
   "outputs": [],
   "source": [
    "# Here are some imports which will be used in code that we write for CS 237\n",
    "\n",
    "# Imports used for the code in CS 237\n",
    "\n",
    "import numpy as np                # arrays and functions which operate on array\n",
    "import matplotlib.pyplot as plt   # normal plotting\n",
    "from numpy.random import random, seed\n",
    "\n",
    "from collections import Counter\n",
    "\n",
    "%matplotlib inline \n",
    "\n",
    "\n",
    "# This draws a useful bar chart for the distribution of the\n",
    "# list of integers in outcomes\n",
    "\n",
    "def show_distribution(outcomes, title='Probability Distribution', my_xticks = [], f_size = (8,6)):\n",
    "    plt.figure(figsize=f_size)\n",
    "    num_trials = len(outcomes)\n",
    "    X = range( int(min(outcomes)), int(max(outcomes))+1 )\n",
    "    freqs = Counter(outcomes)\n",
    "    Y = [freqs[i]/num_trials for i in X]\n",
    "    plt.bar(X,Y,width=1.0,edgecolor='black')\n",
    "    if my_xticks != []:\n",
    "        plt.xticks(X, my_xticks)\n",
    "    elif (X[-1] - X[0] < 30):\n",
    "        ticks = range(X[0],X[-1]+1)\n",
    "        plt.xticks(ticks, ticks) \n",
    "    plt.xlabel(\"Outcomes\")\n",
    "    plt.ylabel(\"Probability\")\n",
    "    plt.title(title)\n",
    "    plt.show()\n",
    "    \n",
    "# Example of use\n",
    "\n",
    "#show_distribution([1,4,3,5,4,6,2,4,3,5,4])\n",
    "   \n"
   ]
  },
  {
   "cell_type": "markdown",
   "metadata": {},
   "source": [
    "## Data streams\n",
    "\n",
    "A data stream is an extremely long sequence of items that you can only read only once, in order. A good example of a data stream is the sequence of packets that pass through a router. Here we will assume that we can get the stream items one by one by calling:\n",
    "\n",
    "```\n",
    "x = next_stream_element() # returns next element in the stream\n",
    "```\n",
    "\n",
    "Here is a small example of a stream that we will use as a test case."
   ]
  },
  {
   "cell_type": "code",
   "execution_count": 2,
   "metadata": {},
   "outputs": [],
   "source": [
    "# example stream: 100,99, ..., 3, 2, 1\n",
    "startN = 100\n",
    "\n",
    "def stream_initialize(startingN=startN):\n",
    "    global N\n",
    "    N = startingN+1\n",
    "\n",
    "def next_stream_element():\n",
    "    global N\n",
    "    N = N - 1\n",
    "    if N < 1:\n",
    "        return '#'\n",
    "    return N\n"
   ]
  },
  {
   "cell_type": "code",
   "execution_count": 3,
   "metadata": {},
   "outputs": [],
   "source": [
    "# test it!\n",
    "stream_initialize()"
   ]
  },
  {
   "cell_type": "code",
   "execution_count": 4,
   "metadata": {},
   "outputs": [
    {
     "data": {
      "text/plain": [
       "100"
      ]
     },
     "execution_count": 4,
     "metadata": {},
     "output_type": "execute_result"
    }
   ],
   "source": [
    "# test it by running this cell a couple of times\n",
    "\n",
    "next_stream_element()"
   ]
  },
  {
   "cell_type": "markdown",
   "metadata": {},
   "source": [
    "## Reservoir sampling algorithm\n",
    "\n",
    "The algorithmic task that we want to solve is the following:\n",
    " > Choose one item uniformly at random from a data stream, **without knowing the length of the stream in advance**\n",
    "\n",
    "Complete the next cell to implement the algorithm presented in class.  Note that the algorithm presented processes each item very quickly: it spends O(1) time per stream element. It also uses very little memory: it stores only one stream item and a counter that counts the number of stream items that have arrived so far."
   ]
  },
  {
   "cell_type": "markdown",
   "metadata": {},
   "source": [
    "## Data stream algorithms\n",
    "\n",
    "Data stream algorithms must process each item in the stream quickly, using very little memory; there is simply too much data to store, and it arrives too quickly for any complex computations. Every data stream algorithm looks roughly like this:\n",
    "\n",
    "```\n",
    "def do_something_interesting():\n",
    "  while True:\n",
    "    x = next_stream_element() # returns next element in the stream\n",
    "    if x == '#'  # end of stream marker\n",
    "      break\n",
    "    do something interesting with x\n",
    "  return something\n",
    "```"
   ]
  },
  {
   "cell_type": "markdown",
   "metadata": {
    "collapsed": true
   },
   "source": [
    "Let us now test the algorithm. We will perform $10^5$ trial runs of the reservoir sampling algorithm on the example stream (see above) and plot the empirical distribution of the sampled items using `show_distribution`. Note that, if the algorithm is correct, the distribution is uniform over the data stream, i.e., each item has probability 1/n of being sampled, where n is the length of the stream. In this case n = 100."
   ]
  },
  {
   "cell_type": "code",
   "execution_count": 5,
   "metadata": {},
   "outputs": [],
   "source": [
    "# reservoir sampling algorithm: sample 1 item with uniform probability over the whole stream\n",
    "import random\n",
    "\n",
    "\n",
    "def stream_sample():\n",
    "    n = 0 # number of stream items seen so far\n",
    "    s = 0 # sampled item\n",
    "    stream = []\n",
    "    while True:\n",
    "        x = next_stream_element() # returns next element in the stream\n",
    "        stream.append(x)\n",
    "        if x == '#':  # end of stream marker\n",
    "            break\n",
    "        else:\n",
    "            temp = random.randint(0,n)\n",
    "            s = stream[temp]\n",
    "            n+=1\n",
    "            \n",
    "            \n",
    "    \n",
    "    # Your code here: loop over whole stream, examining each stream item, and replacing the sample s with the new\n",
    "    # item with probability 1/n. \n",
    "\n",
    "    return s"
   ]
  },
  {
   "cell_type": "code",
   "execution_count": 6,
   "metadata": {},
   "outputs": [
    {
     "name": "stdout",
     "output_type": "stream",
     "text": [
      "24\n"
     ]
    }
   ],
   "source": [
    "#seed(10)     # try with and without\n",
    "\n",
    "# trial run on the example stream above\n",
    "stream_initialize()\n",
    "print(stream_sample())           "
   ]
  },
  {
   "cell_type": "code",
   "execution_count": 7,
   "metadata": {},
   "outputs": [
    {
     "data": {
      "image/png": "[encoded data removed]",
      "text/plain": [
       "<Figure size 576x432 with 1 Axes>"
      ]
     },
     "metadata": {
      "needs_background": "light"
     },
     "output_type": "display_data"
    }
   ],
   "source": [
    "num_trials = 10**5\n",
    "arr = []\n",
    "for i in range(num_trials):\n",
    "    stream_initialize()\n",
    "    arr.append(stream_sample())\n",
    "show_distribution(arr)\n",
    "seed(10)\n",
    "\n",
    "# Your code here, each trial selects a single sample from the stream\n",
    "# Display your results using show_distribution\n",
    "\n",
    "# hint: don't forget to initialize the stream at the beginning of each trial!"
   ]
  },
  {
   "cell_type": "code",
   "execution_count": null,
   "metadata": {},
   "outputs": [],
   "source": []
  }
 ],
 "metadata": {
  "kernelspec": {
   "display_name": "Python 3 (ipykernel)",
   "language": "python",
   "name": "python3"
  },
  "language_info": {
   "codemirror_mode": {
    "name": "ipython",
    "version": 3
   },
   "file_extension": ".py",
   "mimetype": "text/x-python",
   "name": "python",
   "nbconvert_exporter": "python",
   "pygments_lexer": "ipython3",
   "version": "3.9.7"
  }
 },
 "nbformat": 4,
 "nbformat_minor": 2
}
